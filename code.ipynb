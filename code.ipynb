{
 "cells": [
  {
   "cell_type": "code",
   "execution_count": 1,
   "metadata": {},
   "outputs": [],
   "source": [
    "from transformers import BertModel\n",
    "from keybert import KeyBERT\n",
    "from kiwipiepy import Kiwi\n",
    "from tqdm import tqdm\n",
    "import pandas as pd\n",
    "import numpy as np\n",
    "import xmltodict\n",
    "import requests\n",
    "import json\n",
    "import os\n",
    "\n",
    "os.getcwd()"
   ]
  },
  {
   "cell_type": "code",
   "execution_count": 2,
   "metadata": {},
   "outputs": [],
   "source": [
    "with open('description_lst.json', 'r', encoding='utf8') as f:\n",
    "    description_lst = json.load(f)"
   ]
  },
  {
   "cell_type": "code",
   "execution_count": 3,
   "metadata": {},
   "outputs": [],
   "source": [
    "df = pd.DataFrame(description_lst, columns=['idx', 'dscription'])\n",
    "filtered_df = df[~((df['dscription'].isna()) | (df['dscription'] == 'ISBN'))].copy()"
   ]
  },
  {
   "cell_type": "code",
   "execution_count": null,
   "metadata": {},
   "outputs": [],
   "source": [
    "model = BertModel.from_pretrained('skt/kobert-base-v1')\n",
    "kw_model = KeyBERT(model)"
   ]
  },
  {
   "cell_type": "code",
   "execution_count": null,
   "metadata": {},
   "outputs": [],
   "source": [
    "kiwi = Kiwi()\n",
    "\n",
    "keyword_lst = []\n",
    "for idx, row in tqdm(filtered_df.iterrows(), total=len(filtered_df)):\n",
    "    result_text = ''\n",
    "    index, description = row.tolist()\n",
    "    for sentence in kiwi.analyze(description):\n",
    "        nouns = []\n",
    "        for token in sentence[0]:\n",
    "            if token.tag.startswith('NN'):\n",
    "                nouns.append(token.form)\n",
    "        if nouns:\n",
    "            result_text = ' '.join(nouns)\n",
    "\n",
    "    keyword = kw_model.extract_keywords(result_text, keyphrase_ngram_range=(1, 1), stop_words=None, top_n=20)\n",
    "    keyword = [k[0] for k in keyword]\n",
    "    keyword_lst.append(keyword)"
   ]
  },
  {
   "cell_type": "code",
   "execution_count": null,
   "metadata": {},
   "outputs": [],
   "source": [
    "filtered_df['keyword'] = keyword_lst"
   ]
  },
  {
   "cell_type": "code",
   "execution_count": null,
   "metadata": {},
   "outputs": [],
   "source": [
    "filtered_df.head()"
   ]
  }
 ],
 "metadata": {
  "kernelspec": {
   "display_name": "library",
   "language": "python",
   "name": "python3"
  },
  "language_info": {
   "codemirror_mode": {
    "name": "ipython",
    "version": 3
   },
   "file_extension": ".py",
   "mimetype": "text/x-python",
   "name": "python",
   "nbconvert_exporter": "python",
   "pygments_lexer": "ipython3",
   "version": "3.11.7"
  }
 },
 "nbformat": 4,
 "nbformat_minor": 2
}
